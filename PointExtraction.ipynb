{
 "cells": [
  {
   "cell_type": "code",
   "execution_count": null,
   "metadata": {},
   "outputs": [],
   "source": [
    "# fashion_pose.py : MPII를 사용한 신체부위 검출\n",
    "import pandas as pd\n",
    "import cv2\n",
    "import os\n",
    "    \n",
    "# 각 파일 path\n",
    "protoFile =\"./body_25/pose_deploy.prototxt\"\n",
    "weightsFile =\"./body_25/pose_iter_584000.caffemodel\"\n",
    "# 위의 path에 있는 network 불러오기\n",
    "net = cv2.dnn.readNetFromCaffe(protoFile, weightsFile)\n",
    "    \n",
    "path =\"../squat_x\"# 사진 파일 주소\n",
    "file_list = os.listdir(path) # 사진 파일명 리스트\n",
    "num_list = [1,5,12,13,14] # 스쿼트\n",
    "columns_name = ['1x','1y','5x','5y','12x','12y','13x','13y','14x','14y'] # 스쿼트\n",
    "df = pd.DataFrame(columns=columns_name);\n",
    "for file in file_list:\n",
    "    # 이미지 읽어오기\n",
    "    print(len(df), end=' ')\n",
    "    print(file)\n",
    "    image = cv2.imread(path +'/'+file)\n",
    "    # frame.shape = 불러온 이미지에서 height, width, color 받아옴\n",
    "    imageHeight, imageWidth, _ = image.shape\n",
    "    # network에 넣기위해 전처리\n",
    "    inpBlob = cv2.dnn.blobFromImage(image, 1.0 /255, (imageWidth, imageHeight), (0, 0, 0), swapRB=False, crop=False)\n",
    "    # network에 넣어주기\n",
    "    net.setInput(inpBlob)\n",
    "    # 결과 받아오기\n",
    "    output = net.forward()\n",
    "    # output.shape[0] = 이미지 ID, [1] = 출력 맵의 높이, [2] = 너비\n",
    "    H = output.shape[2]\n",
    "    W = output.shape[3]\n",
    "    #print(\"이미지 ID : \", len(output[0]), \", H : \", output.shape[2], \", W : \",output.shape[3]) # 이미지 ID\n",
    "    # 키포인트 검출시 이미지에 그려줌\n",
    "    row = []\n",
    "    for i in num_list:\n",
    "        # 해당 신체부위 신뢰도 얻음.\n",
    "        probMap = output[0, i, :, :]\n",
    "        # global 최대값 찾기\n",
    "        minVal, prob, minLoc, point = cv2.minMaxLoc(probMap)\n",
    "        # 원래 이미지에 맞게 점 위치 변경\n",
    "        x = (imageWidth * point[0]) / W\n",
    "        y = (imageHeight * point[1]) / H\n",
    "        #print(i, \" \", x, \" \", y);\n",
    "        \n",
    "        row.append(x);\n",
    "        row.append(y);\n",
    "        # point를 dataframe으로 변경\n",
    "    df = df.append(pd.Series(row, index=df.columns), ignore_index=True)\n",
    "    df.to_csv('squat_x.csv', mode='w')\n"
   ]
  }
 ],
 "metadata": {
  "kernelspec": {
   "display_name": "Python 3",
   "language": "python",
   "name": "python3"
  },
  "language_info": {
   "codemirror_mode": {
    "name": "ipython",
    "version": 3
   },
   "file_extension": ".py",
   "mimetype": "text/x-python",
   "name": "python",
   "nbconvert_exporter": "python",
   "pygments_lexer": "ipython3",
   "version": "3.7.4"
  }
 },
 "nbformat": 4,
 "nbformat_minor": 2
} 
